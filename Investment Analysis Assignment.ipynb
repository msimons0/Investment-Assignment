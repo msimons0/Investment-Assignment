{
 "cells": [
  {
   "cell_type": "markdown",
   "metadata": {},
   "source": [
    "# Investment Analysis Assignment"
   ]
  },
  {
   "cell_type": "markdown",
   "metadata": {},
   "source": [
    "Import the required libraries"
   ]
  },
  {
   "cell_type": "code",
   "execution_count": 1,
   "metadata": {},
   "outputs": [],
   "source": [
    "import matplotlib.pyplot as plt\n",
    "import numpy as np\n",
    "import pandas as pd\n",
    "from pylab import rcParams\n",
    "import re # re is used for find and replace operations\n",
    "import seaborn as sns"
   ]
  },
  {
   "cell_type": "code",
   "execution_count": 2,
   "metadata": {},
   "outputs": [],
   "source": [
    "companies = pd.read_csv(\"companies.csv\", encoding=\"cp437\")\n",
    "rounds2 = pd.read_csv(\"rounds2.csv\", encoding=\"cp437\")"
   ]
  },
  {
   "cell_type": "markdown",
   "metadata": {},
   "source": [
    "# Checkpoint 1: Data Cleaning 1"
   ]
  },
  {
   "cell_type": "markdown",
   "metadata": {},
   "source": [
    "## Step 1: Data cleaning"
   ]
  },
  {
   "cell_type": "markdown",
   "metadata": {},
   "source": [
    "There are a few cell which do not have a the raised amount. This data is meaningless as we are making our investment decision based on the invested amount, hence we are filtering out this data."
   ]
  },
  {
   "cell_type": "code",
   "execution_count": 3,
   "metadata": {},
   "outputs": [],
   "source": [
    "rounds2 = rounds2[~rounds2[\"raised_amount_usd\"].isnull()]"
   ]
  },
  {
   "cell_type": "markdown",
   "metadata": {},
   "source": [
    "It's prefered to express the amout raised in millions to make the numbers readable"
   ]
  },
  {
   "cell_type": "code",
   "execution_count": 4,
   "metadata": {},
   "outputs": [],
   "source": [
    "rounds2[\"raised_amount_usd_in_millions\"] = rounds2[\"raised_amount_usd\"]/1000000"
   ]
  },
  {
   "cell_type": "markdown",
   "metadata": {},
   "source": [
    "Drop the columns that we do not need"
   ]
  },
  {
   "cell_type": "code",
   "execution_count": 5,
   "metadata": {},
   "outputs": [],
   "source": [
    "rounds2.drop([\"funding_round_code\", \"funded_at\", \"raised_amount_usd\"], axis = 1, inplace=True)\n",
    "companies.drop([\"homepage_url\", \"status\", \"state_code\", \"region\", \"city\", \"founded_at\"], axis = 1, inplace=True)"
   ]
  },
  {
   "cell_type": "code",
   "execution_count": 6,
   "metadata": {},
   "outputs": [
    {
     "name": "stdout",
     "output_type": "stream",
     "text": [
      "<class 'pandas.core.frame.DataFrame'>\n",
      "Int64Index: 94959 entries, 0 to 114948\n",
      "Data columns (total 4 columns):\n",
      " #   Column                         Non-Null Count  Dtype  \n",
      "---  ------                         --------------  -----  \n",
      " 0   company_permalink              94959 non-null  object \n",
      " 1   funding_round_permalink        94959 non-null  object \n",
      " 2   funding_round_type             94959 non-null  object \n",
      " 3   raised_amount_usd_in_millions  94959 non-null  float64\n",
      "dtypes: float64(1), object(3)\n",
      "memory usage: 3.6+ MB\n"
     ]
    }
   ],
   "source": [
    "rounds2.info()"
   ]
  },
  {
   "cell_type": "code",
   "execution_count": 7,
   "metadata": {},
   "outputs": [
    {
     "name": "stdout",
     "output_type": "stream",
     "text": [
      "<class 'pandas.core.frame.DataFrame'>\n",
      "RangeIndex: 66368 entries, 0 to 66367\n",
      "Data columns (total 4 columns):\n",
      " #   Column         Non-Null Count  Dtype \n",
      "---  ------         --------------  ----- \n",
      " 0   permalink      66368 non-null  object\n",
      " 1   name           66367 non-null  object\n",
      " 2   category_list  63220 non-null  object\n",
      " 3   country_code   59410 non-null  object\n",
      "dtypes: object(4)\n",
      "memory usage: 2.0+ MB\n"
     ]
    }
   ],
   "source": [
    "companies.info()"
   ]
  },
  {
   "cell_type": "markdown",
   "metadata": {},
   "source": [
    "Filter out the companies whos country_code is missing"
   ]
  },
  {
   "cell_type": "code",
   "execution_count": 8,
   "metadata": {},
   "outputs": [],
   "source": [
    "companies = companies[~companies[\"country_code\"].isnull()]"
   ]
  },
  {
   "cell_type": "markdown",
   "metadata": {},
   "source": [
    "###### How many unique companies are present in rounds2?\t"
   ]
  },
  {
   "cell_type": "code",
   "execution_count": 9,
   "metadata": {},
   "outputs": [
    {
     "data": {
      "text/plain": [
       "53917"
      ]
     },
     "execution_count": 9,
     "metadata": {},
     "output_type": "execute_result"
    }
   ],
   "source": [
    "len(rounds2[\"company_permalink\"].str.upper().unique())"
   ]
  },
  {
   "cell_type": "markdown",
   "metadata": {},
   "source": [
    "###### How many unique companies are present in companies?\t"
   ]
  },
  {
   "cell_type": "code",
   "execution_count": 10,
   "metadata": {},
   "outputs": [
    {
     "data": {
      "text/plain": [
       "59410"
      ]
     },
     "execution_count": 10,
     "metadata": {},
     "output_type": "execute_result"
    }
   ],
   "source": [
    "len(companies[\"permalink\"].str.upper().unique())"
   ]
  },
  {
   "cell_type": "markdown",
   "metadata": {},
   "source": [
    "###### Merge the two data frames so that all variables (columns) in the companies frame are added to the rounds2 data frame. Name the merged frame master_frame. How many observations are present in master_frame?"
   ]
  },
  {
   "cell_type": "code",
   "execution_count": 11,
   "metadata": {},
   "outputs": [
    {
     "data": {
      "text/plain": [
       "89095"
      ]
     },
     "execution_count": 11,
     "metadata": {},
     "output_type": "execute_result"
    }
   ],
   "source": [
    "companies[\"permalink\"] = companies[\"permalink\"].str.upper().apply(lambda x: x.strip())\n",
    "rounds2[\"company_permalink\"] = rounds2[\"company_permalink\"].str.upper().apply(lambda x: x.strip())\n",
    "\n",
    "master_frame = pd.merge(left=companies, right=rounds2, left_on=\"permalink\", right_on=\"company_permalink\", how=\"inner\")\n",
    "master_frame.to_csv(\"master_frame.csv\")\n",
    "master_frame.shape[0]"
   ]
  },
  {
   "cell_type": "markdown",
   "metadata": {},
   "source": [
    "###### Are there any companies in the rounds2 file which are not  present in companies ? Answer Y/N."
   ]
  },
  {
   "cell_type": "code",
   "execution_count": 12,
   "metadata": {
    "scrolled": true
   },
   "outputs": [
    {
     "data": {
      "text/html": [
       "<div>\n",
       "<style scoped>\n",
       "    .dataframe tbody tr th:only-of-type {\n",
       "        vertical-align: middle;\n",
       "    }\n",
       "\n",
       "    .dataframe tbody tr th {\n",
       "        vertical-align: top;\n",
       "    }\n",
       "\n",
       "    .dataframe thead th {\n",
       "        text-align: right;\n",
       "    }\n",
       "</style>\n",
       "<table border=\"1\" class=\"dataframe\">\n",
       "  <thead>\n",
       "    <tr style=\"text-align: right;\">\n",
       "      <th></th>\n",
       "      <th>company_permalink</th>\n",
       "      <th>funding_round_permalink</th>\n",
       "      <th>funding_round_type</th>\n",
       "      <th>raised_amount_usd_in_millions</th>\n",
       "      <th>permalink</th>\n",
       "      <th>name</th>\n",
       "      <th>category_list</th>\n",
       "      <th>country_code</th>\n",
       "    </tr>\n",
       "  </thead>\n",
       "  <tbody>\n",
       "    <tr>\n",
       "      <th>2</th>\n",
       "      <td>/ORGANIZATION/-THE-ONE-OF-THEM-INC-</td>\n",
       "      <td>/funding-round/650b8f704416801069bb178a1418776b</td>\n",
       "      <td>venture</td>\n",
       "      <td>3.406878</td>\n",
       "      <td>NaN</td>\n",
       "      <td>NaN</td>\n",
       "      <td>NaN</td>\n",
       "      <td>NaN</td>\n",
       "    </tr>\n",
       "    <tr>\n",
       "      <th>26</th>\n",
       "      <td>/ORGANIZATION/1000CHI</td>\n",
       "      <td>/funding-round/854fae13c5b26b2ea6b32b06c2e5890c</td>\n",
       "      <td>angel</td>\n",
       "      <td>43.923865</td>\n",
       "      <td>NaN</td>\n",
       "      <td>NaN</td>\n",
       "      <td>NaN</td>\n",
       "      <td>NaN</td>\n",
       "    </tr>\n",
       "    <tr>\n",
       "      <th>52</th>\n",
       "      <td>/ORGANIZATION/10K-2</td>\n",
       "      <td>/funding-round/95401c8e8336892bf375ad94efd6c725</td>\n",
       "      <td>seed</td>\n",
       "      <td>0.100000</td>\n",
       "      <td>NaN</td>\n",
       "      <td>NaN</td>\n",
       "      <td>NaN</td>\n",
       "      <td>NaN</td>\n",
       "    </tr>\n",
       "    <tr>\n",
       "      <th>72</th>\n",
       "      <td>/ORGANIZATION/1234ENTER</td>\n",
       "      <td>/funding-round/6343322ed785252d4c5ada444fa7d8e4</td>\n",
       "      <td>venture</td>\n",
       "      <td>0.150267</td>\n",
       "      <td>NaN</td>\n",
       "      <td>NaN</td>\n",
       "      <td>NaN</td>\n",
       "      <td>NaN</td>\n",
       "    </tr>\n",
       "    <tr>\n",
       "      <th>73</th>\n",
       "      <td>/ORGANIZATION/1234ENTER</td>\n",
       "      <td>/funding-round/ee6f9dea78c9a0697a500098a854564d</td>\n",
       "      <td>seed</td>\n",
       "      <td>0.500000</td>\n",
       "      <td>NaN</td>\n",
       "      <td>NaN</td>\n",
       "      <td>NaN</td>\n",
       "      <td>NaN</td>\n",
       "    </tr>\n",
       "    <tr>\n",
       "      <th>...</th>\n",
       "      <td>...</td>\n",
       "      <td>...</td>\n",
       "      <td>...</td>\n",
       "      <td>...</td>\n",
       "      <td>...</td>\n",
       "      <td>...</td>\n",
       "      <td>...</td>\n",
       "      <td>...</td>\n",
       "    </tr>\n",
       "    <tr>\n",
       "      <th>94797</th>\n",
       "      <td>/ORGANIZATION/ZUGGI</td>\n",
       "      <td>/funding-round/e8fa50bcf4086dc88c07a901258b8b4f</td>\n",
       "      <td>seed</td>\n",
       "      <td>0.040000</td>\n",
       "      <td>NaN</td>\n",
       "      <td>NaN</td>\n",
       "      <td>NaN</td>\n",
       "      <td>NaN</td>\n",
       "    </tr>\n",
       "    <tr>\n",
       "      <th>94862</th>\n",
       "      <td>/ORGANIZATION/ZUUMTEL</td>\n",
       "      <td>/funding-round/785ed8667f9d950257f94089050d6eb0</td>\n",
       "      <td>angel</td>\n",
       "      <td>0.200000</td>\n",
       "      <td>NaN</td>\n",
       "      <td>NaN</td>\n",
       "      <td>NaN</td>\n",
       "      <td>NaN</td>\n",
       "    </tr>\n",
       "    <tr>\n",
       "      <th>94863</th>\n",
       "      <td>/ORGANIZATION/ZUUMTEL</td>\n",
       "      <td>/funding-round/d5d97d7c8a5e923715b15495d44e7cb8</td>\n",
       "      <td>seed</td>\n",
       "      <td>0.100000</td>\n",
       "      <td>NaN</td>\n",
       "      <td>NaN</td>\n",
       "      <td>NaN</td>\n",
       "      <td>NaN</td>\n",
       "    </tr>\n",
       "    <tr>\n",
       "      <th>94875</th>\n",
       "      <td>/ORGANIZATION/ZWAYO-\"ON-DEMAND-VALET-PARKING\"</td>\n",
       "      <td>/funding-round/eb5163bb6feea4384121e27699bb7b25</td>\n",
       "      <td>seed</td>\n",
       "      <td>0.060000</td>\n",
       "      <td>NaN</td>\n",
       "      <td>NaN</td>\n",
       "      <td>NaN</td>\n",
       "      <td>NaN</td>\n",
       "    </tr>\n",
       "    <tr>\n",
       "      <th>94958</th>\n",
       "      <td>/ORGANIZATION/Σ░NOVATIFF-REKLAM-VE-TANΣ▒TΣ▒M-H...</td>\n",
       "      <td>/funding-round/af942869878d2cd788ef5189b435ebc4</td>\n",
       "      <td>grant</td>\n",
       "      <td>0.014851</td>\n",
       "      <td>NaN</td>\n",
       "      <td>NaN</td>\n",
       "      <td>NaN</td>\n",
       "      <td>NaN</td>\n",
       "    </tr>\n",
       "  </tbody>\n",
       "</table>\n",
       "<p>5864 rows × 8 columns</p>\n",
       "</div>"
      ],
      "text/plain": [
       "                                       company_permalink  \\\n",
       "2                    /ORGANIZATION/-THE-ONE-OF-THEM-INC-   \n",
       "26                                 /ORGANIZATION/1000CHI   \n",
       "52                                   /ORGANIZATION/10K-2   \n",
       "72                               /ORGANIZATION/1234ENTER   \n",
       "73                               /ORGANIZATION/1234ENTER   \n",
       "...                                                  ...   \n",
       "94797                                /ORGANIZATION/ZUGGI   \n",
       "94862                              /ORGANIZATION/ZUUMTEL   \n",
       "94863                              /ORGANIZATION/ZUUMTEL   \n",
       "94875      /ORGANIZATION/ZWAYO-\"ON-DEMAND-VALET-PARKING\"   \n",
       "94958  /ORGANIZATION/Σ░NOVATIFF-REKLAM-VE-TANΣ▒TΣ▒M-H...   \n",
       "\n",
       "                               funding_round_permalink funding_round_type  \\\n",
       "2      /funding-round/650b8f704416801069bb178a1418776b            venture   \n",
       "26     /funding-round/854fae13c5b26b2ea6b32b06c2e5890c              angel   \n",
       "52     /funding-round/95401c8e8336892bf375ad94efd6c725               seed   \n",
       "72     /funding-round/6343322ed785252d4c5ada444fa7d8e4            venture   \n",
       "73     /funding-round/ee6f9dea78c9a0697a500098a854564d               seed   \n",
       "...                                                ...                ...   \n",
       "94797  /funding-round/e8fa50bcf4086dc88c07a901258b8b4f               seed   \n",
       "94862  /funding-round/785ed8667f9d950257f94089050d6eb0              angel   \n",
       "94863  /funding-round/d5d97d7c8a5e923715b15495d44e7cb8               seed   \n",
       "94875  /funding-round/eb5163bb6feea4384121e27699bb7b25               seed   \n",
       "94958  /funding-round/af942869878d2cd788ef5189b435ebc4              grant   \n",
       "\n",
       "       raised_amount_usd_in_millions permalink name category_list country_code  \n",
       "2                           3.406878       NaN  NaN           NaN          NaN  \n",
       "26                         43.923865       NaN  NaN           NaN          NaN  \n",
       "52                          0.100000       NaN  NaN           NaN          NaN  \n",
       "72                          0.150267       NaN  NaN           NaN          NaN  \n",
       "73                          0.500000       NaN  NaN           NaN          NaN  \n",
       "...                              ...       ...  ...           ...          ...  \n",
       "94797                       0.040000       NaN  NaN           NaN          NaN  \n",
       "94862                       0.200000       NaN  NaN           NaN          NaN  \n",
       "94863                       0.100000       NaN  NaN           NaN          NaN  \n",
       "94875                       0.060000       NaN  NaN           NaN          NaN  \n",
       "94958                       0.014851       NaN  NaN           NaN          NaN  \n",
       "\n",
       "[5864 rows x 8 columns]"
      ]
     },
     "execution_count": 12,
     "metadata": {},
     "output_type": "execute_result"
    }
   ],
   "source": [
    "na = pd.merge(left=rounds2, right=companies, right_on=\"permalink\", left_on=\"company_permalink\", how=\"left\")\n",
    "na[na.permalink.isnull()]"
   ]
  },
  {
   "cell_type": "markdown",
   "metadata": {},
   "source": [
    "After we've merged the data take a copy of master_frame. This will come in handy later."
   ]
  },
  {
   "cell_type": "code",
   "execution_count": 13,
   "metadata": {
    "scrolled": true
   },
   "outputs": [],
   "source": [
    "original_data = master_frame.copy()\n"
   ]
  },
  {
   "cell_type": "markdown",
   "metadata": {},
   "source": [
    "# Checkpoint 2: Funding Type Analysis"
   ]
  },
  {
   "cell_type": "markdown",
   "metadata": {},
   "source": [
    "###### Representative funding amount of venture type"
   ]
  },
  {
   "cell_type": "code",
   "execution_count": 14,
   "metadata": {},
   "outputs": [
    {
     "data": {
      "text/plain": [
       "5.0"
      ]
     },
     "execution_count": 14,
     "metadata": {},
     "output_type": "execute_result"
    }
   ],
   "source": [
    "master_frame[master_frame[\"funding_round_type\"]==\"venture\"][\"raised_amount_usd_in_millions\"].median()"
   ]
  },
  {
   "cell_type": "markdown",
   "metadata": {},
   "source": [
    "###### Representative funding amount of angel type"
   ]
  },
  {
   "cell_type": "code",
   "execution_count": 15,
   "metadata": {},
   "outputs": [
    {
     "data": {
      "text/plain": [
       "0.410737"
      ]
     },
     "execution_count": 15,
     "metadata": {},
     "output_type": "execute_result"
    }
   ],
   "source": [
    "master_frame[master_frame[\"funding_round_type\"]==\"angel\"][\"raised_amount_usd_in_millions\"].median()"
   ]
  },
  {
   "cell_type": "markdown",
   "metadata": {},
   "source": [
    "###### Representative funding amount of seed type"
   ]
  },
  {
   "cell_type": "code",
   "execution_count": 16,
   "metadata": {},
   "outputs": [
    {
     "data": {
      "text/plain": [
       "0.3"
      ]
     },
     "execution_count": 16,
     "metadata": {},
     "output_type": "execute_result"
    }
   ],
   "source": [
    "master_frame[master_frame[\"funding_round_type\"]==\"seed\"][\"raised_amount_usd_in_millions\"].median()"
   ]
  },
  {
   "cell_type": "markdown",
   "metadata": {},
   "source": [
    "###### Representative funding amount of private equity type"
   ]
  },
  {
   "cell_type": "code",
   "execution_count": 17,
   "metadata": {},
   "outputs": [
    {
     "data": {
      "text/plain": [
       "20.0"
      ]
     },
     "execution_count": 17,
     "metadata": {},
     "output_type": "execute_result"
    }
   ],
   "source": [
    "master_frame[master_frame[\"funding_round_type\"]==\"private_equity\"][\"raised_amount_usd_in_millions\"].median()"
   ]
  },
  {
   "cell_type": "markdown",
   "metadata": {},
   "source": [
    "Filtering the data to include only venture type funding"
   ]
  },
  {
   "cell_type": "code",
   "execution_count": 18,
   "metadata": {},
   "outputs": [],
   "source": [
    "master_frame = master_frame[master_frame[\"funding_round_type\"]==\"venture\"]"
   ]
  },
  {
   "cell_type": "markdown",
   "metadata": {},
   "source": [
    "# Checkpoint 3: Country Analysis"
   ]
  },
  {
   "cell_type": "code",
   "execution_count": 19,
   "metadata": {
    "scrolled": false
   },
   "outputs": [
    {
     "data": {
      "text/plain": [
       "0    USA\n",
       "1    CHN\n",
       "2    GBR\n",
       "3    IND\n",
       "4    CAN\n",
       "5    RUS\n",
       "6    DEU\n",
       "7    ISR\n",
       "8    FRA\n",
       "Name: country_code, dtype: object"
      ]
     },
     "execution_count": 19,
     "metadata": {},
     "output_type": "execute_result"
    }
   ],
   "source": [
    "top9 = original_data.groupby(by=[\"country_code\"])[\"raised_amount_usd_in_millions\"].sum().sort_values(ascending=False)[0:9].reset_index()\n",
    "top9.country_code\n",
    "\n"
   ]
  },
  {
   "cell_type": "markdown",
   "metadata": {},
   "source": [
    "\n",
    "Filter by the top 3 english speaking countries"
   ]
  },
  {
   "cell_type": "code",
   "execution_count": 20,
   "metadata": {},
   "outputs": [],
   "source": [
    "master_frame = master_frame[master_frame[\"country_code\"].isin([\"USA\",\"GBR\",\"IND\"])]"
   ]
  },
  {
   "cell_type": "markdown",
   "metadata": {},
   "source": [
    "# Checkpoint 4: Sector Analysis 1"
   ]
  },
  {
   "cell_type": "markdown",
   "metadata": {},
   "source": [
    "Extract the primary sector of each category list from the category_list column"
   ]
  },
  {
   "cell_type": "code",
   "execution_count": 21,
   "metadata": {},
   "outputs": [],
   "source": [
    "master_frame[\"primary_sector\"] = master_frame[\"category_list\"].apply(lambda x : str(x).split(\"|\")[0])"
   ]
  },
  {
   "cell_type": "markdown",
   "metadata": {},
   "source": [
    "Use the mapping file 'mapping.csv' to map each primary sector to one of the eight main sectors (Note that ‘Others’ is also considered one of the main sectors)"
   ]
  },
  {
   "cell_type": "code",
   "execution_count": 22,
   "metadata": {},
   "outputs": [],
   "source": [
    "mapping = pd.read_csv(\"mapping.csv\", encoding=\"cp437\")\n",
    "mapping = pd.melt(mapping,id_vars=[\"category_list\"])\n",
    "mapping = mapping[mapping[\"value\"]!=0]\n",
    "# drop the value column\n",
    "mapping.drop('value', axis=1, inplace=True)\n",
    "mapping.index = pd.RangeIndex(len(mapping.index))\n",
    "mapping.rename({\"variable\":\"main_sector\", \"category_list\": \"category\"}, inplace=True, axis=1)"
   ]
  },
  {
   "cell_type": "code",
   "execution_count": 23,
   "metadata": {},
   "outputs": [
    {
     "name": "stdout",
     "output_type": "stream",
     "text": [
      "62                  0notechnology\n",
      "63     0tural Language Processing\n",
      "64               0tural Resources\n",
      "320                     0vigation\n",
      "228                            3D\n",
      "229                   3D Printing\n",
      "230                 3D Technology\n",
      "541                      A0lytics\n",
      "535                    Accounting\n",
      "165              Active Lifestyle\n",
      "Name: category, dtype: object\n"
     ]
    }
   ],
   "source": [
    "print(mapping[\"category\"].sort_values(ascending=True).head(10))"
   ]
  },
  {
   "cell_type": "markdown",
   "metadata": {},
   "source": [
    "Looking at the data we can see that na has been accidentally replaced by a 0 and we need to reverse this change "
   ]
  },
  {
   "cell_type": "code",
   "execution_count": 24,
   "metadata": {
    "scrolled": true
   },
   "outputs": [
    {
     "name": "stdout",
     "output_type": "stream",
     "text": [
      "228                       3D\n",
      "229              3D Printing\n",
      "230            3D Technology\n",
      "535               Accounting\n",
      "165         Active Lifestyle\n",
      "536             Ad Targeting\n",
      "231       Advanced Materials\n",
      "0           Adventure Travel\n",
      "537              Advertising\n",
      "538    Advertising Exchanges\n",
      "Name: category, dtype: object\n"
     ]
    }
   ],
   "source": [
    "mapping[\"category\"] = mapping[\"category\"].apply(lambda x: re.sub('[0]', 'na', str(x)))\n",
    "print(mapping[\"category\"].sort_values(ascending=True).head(10))"
   ]
  },
  {
   "cell_type": "markdown",
   "metadata": {},
   "source": [
    "We can see the that the resulting data looks good"
   ]
  },
  {
   "cell_type": "markdown",
   "metadata": {},
   "source": [
    "###### Code for a merged data frame with each primary sector mapped to its main sector"
   ]
  },
  {
   "cell_type": "code",
   "execution_count": 25,
   "metadata": {},
   "outputs": [
    {
     "data": {
      "text/html": [
       "<div>\n",
       "<style scoped>\n",
       "    .dataframe tbody tr th:only-of-type {\n",
       "        vertical-align: middle;\n",
       "    }\n",
       "\n",
       "    .dataframe tbody tr th {\n",
       "        vertical-align: top;\n",
       "    }\n",
       "\n",
       "    .dataframe thead th {\n",
       "        text-align: right;\n",
       "    }\n",
       "</style>\n",
       "<table border=\"1\" class=\"dataframe\">\n",
       "  <thead>\n",
       "    <tr style=\"text-align: right;\">\n",
       "      <th></th>\n",
       "      <th>permalink</th>\n",
       "      <th>name</th>\n",
       "      <th>category_list</th>\n",
       "      <th>country_code</th>\n",
       "      <th>company_permalink</th>\n",
       "      <th>funding_round_permalink</th>\n",
       "      <th>funding_round_type</th>\n",
       "      <th>raised_amount_usd_in_millions</th>\n",
       "      <th>primary_sector</th>\n",
       "      <th>main_sector</th>\n",
       "    </tr>\n",
       "  </thead>\n",
       "  <tbody>\n",
       "    <tr>\n",
       "      <th>0</th>\n",
       "      <td>/ORGANIZATION/-FAME</td>\n",
       "      <td>#fame</td>\n",
       "      <td>Media</td>\n",
       "      <td>IND</td>\n",
       "      <td>/ORGANIZATION/-FAME</td>\n",
       "      <td>/funding-round/9a01d05418af9f794eebff7ace91f638</td>\n",
       "      <td>venture</td>\n",
       "      <td>10.000000</td>\n",
       "      <td>Media</td>\n",
       "      <td>Entertainment</td>\n",
       "    </tr>\n",
       "    <tr>\n",
       "      <th>1</th>\n",
       "      <td>/ORGANIZATION/90MIN</td>\n",
       "      <td>90min</td>\n",
       "      <td>Media|News|Publishing|Soccer|Sports</td>\n",
       "      <td>GBR</td>\n",
       "      <td>/ORGANIZATION/90MIN</td>\n",
       "      <td>/funding-round/21a2cbf6f2fb2a1c2a61e04bf930dfe6</td>\n",
       "      <td>venture</td>\n",
       "      <td>15.000000</td>\n",
       "      <td>Media</td>\n",
       "      <td>Entertainment</td>\n",
       "    </tr>\n",
       "    <tr>\n",
       "      <th>2</th>\n",
       "      <td>/ORGANIZATION/90MIN</td>\n",
       "      <td>90min</td>\n",
       "      <td>Media|News|Publishing|Soccer|Sports</td>\n",
       "      <td>GBR</td>\n",
       "      <td>/ORGANIZATION/90MIN</td>\n",
       "      <td>/funding-round/bd626ed022f5c66574b1afe234f3c90d</td>\n",
       "      <td>venture</td>\n",
       "      <td>5.800000</td>\n",
       "      <td>Media</td>\n",
       "      <td>Entertainment</td>\n",
       "    </tr>\n",
       "    <tr>\n",
       "      <th>3</th>\n",
       "      <td>/ORGANIZATION/90MIN</td>\n",
       "      <td>90min</td>\n",
       "      <td>Media|News|Publishing|Soccer|Sports</td>\n",
       "      <td>GBR</td>\n",
       "      <td>/ORGANIZATION/90MIN</td>\n",
       "      <td>/funding-round/fd4b15e8c97ee2ffc0acccdbe1a98810</td>\n",
       "      <td>venture</td>\n",
       "      <td>18.000000</td>\n",
       "      <td>Media</td>\n",
       "      <td>Entertainment</td>\n",
       "    </tr>\n",
       "    <tr>\n",
       "      <th>4</th>\n",
       "      <td>/ORGANIZATION/ALL-DEF-DIGITAL</td>\n",
       "      <td>All Def Digital</td>\n",
       "      <td>Media</td>\n",
       "      <td>USA</td>\n",
       "      <td>/ORGANIZATION/ALL-DEF-DIGITAL</td>\n",
       "      <td>/funding-round/452a2342fe720285c3b92e9bd927d9ba</td>\n",
       "      <td>venture</td>\n",
       "      <td>5.000000</td>\n",
       "      <td>Media</td>\n",
       "      <td>Entertainment</td>\n",
       "    </tr>\n",
       "    <tr>\n",
       "      <th>...</th>\n",
       "      <td>...</td>\n",
       "      <td>...</td>\n",
       "      <td>...</td>\n",
       "      <td>...</td>\n",
       "      <td>...</td>\n",
       "      <td>...</td>\n",
       "      <td>...</td>\n",
       "      <td>...</td>\n",
       "      <td>...</td>\n",
       "      <td>...</td>\n",
       "    </tr>\n",
       "    <tr>\n",
       "      <th>38848</th>\n",
       "      <td>/ORGANIZATION/YAPTA</td>\n",
       "      <td>Yapta</td>\n",
       "      <td>Tracking|Transportation|Travel</td>\n",
       "      <td>USA</td>\n",
       "      <td>/ORGANIZATION/YAPTA</td>\n",
       "      <td>/funding-round/b1777df10578e852be3afbe3bc325435</td>\n",
       "      <td>venture</td>\n",
       "      <td>4.220000</td>\n",
       "      <td>Tracking</td>\n",
       "      <td>Others</td>\n",
       "    </tr>\n",
       "    <tr>\n",
       "      <th>38849</th>\n",
       "      <td>/ORGANIZATION/YAPTA</td>\n",
       "      <td>Yapta</td>\n",
       "      <td>Tracking|Transportation|Travel</td>\n",
       "      <td>USA</td>\n",
       "      <td>/ORGANIZATION/YAPTA</td>\n",
       "      <td>/funding-round/ed75e1064eb8b50c01c2e0b691ca9f1e</td>\n",
       "      <td>venture</td>\n",
       "      <td>2.000000</td>\n",
       "      <td>Tracking</td>\n",
       "      <td>Others</td>\n",
       "    </tr>\n",
       "    <tr>\n",
       "      <th>38850</th>\n",
       "      <td>/ORGANIZATION/YAPTA</td>\n",
       "      <td>Yapta</td>\n",
       "      <td>Tracking|Transportation|Travel</td>\n",
       "      <td>USA</td>\n",
       "      <td>/ORGANIZATION/YAPTA</td>\n",
       "      <td>/funding-round/fc066baf3121b060b574214612a6c946</td>\n",
       "      <td>venture</td>\n",
       "      <td>1.786563</td>\n",
       "      <td>Tracking</td>\n",
       "      <td>Others</td>\n",
       "    </tr>\n",
       "    <tr>\n",
       "      <th>38851</th>\n",
       "      <td>/ORGANIZATION/ZIFTIT</td>\n",
       "      <td>Ziftit</td>\n",
       "      <td>Gift Registries|Shopping</td>\n",
       "      <td>USA</td>\n",
       "      <td>/ORGANIZATION/ZIFTIT</td>\n",
       "      <td>/funding-round/d5713b26dbc5e0c65ccc426377449435</td>\n",
       "      <td>venture</td>\n",
       "      <td>4.000000</td>\n",
       "      <td>Gift Registries</td>\n",
       "      <td>Others</td>\n",
       "    </tr>\n",
       "    <tr>\n",
       "      <th>38852</th>\n",
       "      <td>/ORGANIZATION/ZONARSYSTEMS</td>\n",
       "      <td>Zonar Systems</td>\n",
       "      <td>Task Management|Tracking</td>\n",
       "      <td>USA</td>\n",
       "      <td>/ORGANIZATION/ZONARSYSTEMS</td>\n",
       "      <td>/funding-round/f0126dbea5d6075d8d4a1c2d106d9eca</td>\n",
       "      <td>venture</td>\n",
       "      <td>50.000000</td>\n",
       "      <td>Task Management</td>\n",
       "      <td>Others</td>\n",
       "    </tr>\n",
       "  </tbody>\n",
       "</table>\n",
       "<p>38853 rows × 10 columns</p>\n",
       "</div>"
      ],
      "text/plain": [
       "                           permalink             name  \\\n",
       "0                /ORGANIZATION/-FAME            #fame   \n",
       "1                /ORGANIZATION/90MIN            90min   \n",
       "2                /ORGANIZATION/90MIN            90min   \n",
       "3                /ORGANIZATION/90MIN            90min   \n",
       "4      /ORGANIZATION/ALL-DEF-DIGITAL  All Def Digital   \n",
       "...                              ...              ...   \n",
       "38848            /ORGANIZATION/YAPTA            Yapta   \n",
       "38849            /ORGANIZATION/YAPTA            Yapta   \n",
       "38850            /ORGANIZATION/YAPTA            Yapta   \n",
       "38851           /ORGANIZATION/ZIFTIT           Ziftit   \n",
       "38852     /ORGANIZATION/ZONARSYSTEMS    Zonar Systems   \n",
       "\n",
       "                             category_list country_code  \\\n",
       "0                                    Media          IND   \n",
       "1      Media|News|Publishing|Soccer|Sports          GBR   \n",
       "2      Media|News|Publishing|Soccer|Sports          GBR   \n",
       "3      Media|News|Publishing|Soccer|Sports          GBR   \n",
       "4                                    Media          USA   \n",
       "...                                    ...          ...   \n",
       "38848       Tracking|Transportation|Travel          USA   \n",
       "38849       Tracking|Transportation|Travel          USA   \n",
       "38850       Tracking|Transportation|Travel          USA   \n",
       "38851             Gift Registries|Shopping          USA   \n",
       "38852             Task Management|Tracking          USA   \n",
       "\n",
       "                   company_permalink  \\\n",
       "0                /ORGANIZATION/-FAME   \n",
       "1                /ORGANIZATION/90MIN   \n",
       "2                /ORGANIZATION/90MIN   \n",
       "3                /ORGANIZATION/90MIN   \n",
       "4      /ORGANIZATION/ALL-DEF-DIGITAL   \n",
       "...                              ...   \n",
       "38848            /ORGANIZATION/YAPTA   \n",
       "38849            /ORGANIZATION/YAPTA   \n",
       "38850            /ORGANIZATION/YAPTA   \n",
       "38851           /ORGANIZATION/ZIFTIT   \n",
       "38852     /ORGANIZATION/ZONARSYSTEMS   \n",
       "\n",
       "                               funding_round_permalink funding_round_type  \\\n",
       "0      /funding-round/9a01d05418af9f794eebff7ace91f638            venture   \n",
       "1      /funding-round/21a2cbf6f2fb2a1c2a61e04bf930dfe6            venture   \n",
       "2      /funding-round/bd626ed022f5c66574b1afe234f3c90d            venture   \n",
       "3      /funding-round/fd4b15e8c97ee2ffc0acccdbe1a98810            venture   \n",
       "4      /funding-round/452a2342fe720285c3b92e9bd927d9ba            venture   \n",
       "...                                                ...                ...   \n",
       "38848  /funding-round/b1777df10578e852be3afbe3bc325435            venture   \n",
       "38849  /funding-round/ed75e1064eb8b50c01c2e0b691ca9f1e            venture   \n",
       "38850  /funding-round/fc066baf3121b060b574214612a6c946            venture   \n",
       "38851  /funding-round/d5713b26dbc5e0c65ccc426377449435            venture   \n",
       "38852  /funding-round/f0126dbea5d6075d8d4a1c2d106d9eca            venture   \n",
       "\n",
       "       raised_amount_usd_in_millions   primary_sector    main_sector  \n",
       "0                          10.000000            Media  Entertainment  \n",
       "1                          15.000000            Media  Entertainment  \n",
       "2                           5.800000            Media  Entertainment  \n",
       "3                          18.000000            Media  Entertainment  \n",
       "4                           5.000000            Media  Entertainment  \n",
       "...                              ...              ...            ...  \n",
       "38848                       4.220000         Tracking         Others  \n",
       "38849                       2.000000         Tracking         Others  \n",
       "38850                       1.786563         Tracking         Others  \n",
       "38851                       4.000000  Gift Registries         Others  \n",
       "38852                      50.000000  Task Management         Others  \n",
       "\n",
       "[38853 rows x 10 columns]"
      ]
     },
     "execution_count": 25,
     "metadata": {},
     "output_type": "execute_result"
    }
   ],
   "source": [
    "# Using an inner join to merge the two dataframes\n",
    "master_frame = pd.merge(left=master_frame, right=mapping, left_on=\"primary_sector\", right_on=\"category\")\n",
    "master_frame.drop('category', axis=1, inplace=True)\n",
    "master_frame"
   ]
  },
  {
   "cell_type": "markdown",
   "metadata": {},
   "source": [
    "# Checkpoint 5: Sector Analysis 2"
   ]
  },
  {
   "cell_type": "markdown",
   "metadata": {},
   "source": [
    "Filter the data set to to investments between 5 and 15 million USD"
   ]
  },
  {
   "cell_type": "code",
   "execution_count": 26,
   "metadata": {},
   "outputs": [],
   "source": [
    "master_frame = master_frame[(master_frame[\"raised_amount_usd_in_millions\"] >= 5.0) & master_frame[\"raised_amount_usd_in_millions\"] <= 10.0]\n",
    "D1 = master_frame[master_frame[\"country_code\"]==\"USA\"]\n",
    "D2 = master_frame[master_frame[\"country_code\"]==\"GBR\"]\n",
    "D3 = master_frame[master_frame[\"country_code\"]==\"IND\"]"
   ]
  },
  {
   "cell_type": "markdown",
   "metadata": {},
   "source": [
    "###### 1. Total number of investments"
   ]
  },
  {
   "cell_type": "code",
   "execution_count": 27,
   "metadata": {},
   "outputs": [
    {
     "data": {
      "text/plain": [
       "35980"
      ]
     },
     "execution_count": 27,
     "metadata": {},
     "output_type": "execute_result"
    }
   ],
   "source": [
    "# USA\n",
    "D1.shape[0]"
   ]
  },
  {
   "cell_type": "code",
   "execution_count": 28,
   "metadata": {},
   "outputs": [
    {
     "data": {
      "text/plain": [
       "2049"
      ]
     },
     "execution_count": 28,
     "metadata": {},
     "output_type": "execute_result"
    }
   ],
   "source": [
    "# GBR\n",
    "D2.shape[0]"
   ]
  },
  {
   "cell_type": "code",
   "execution_count": 29,
   "metadata": {},
   "outputs": [
    {
     "data": {
      "text/plain": [
       "824"
      ]
     },
     "execution_count": 29,
     "metadata": {},
     "output_type": "execute_result"
    }
   ],
   "source": [
    "# IND\n",
    "D3.shape[0]"
   ]
  },
  {
   "cell_type": "markdown",
   "metadata": {},
   "source": [
    "###### 2. Total amount of investment (USD)"
   ]
  },
  {
   "cell_type": "code",
   "execution_count": 30,
   "metadata": {},
   "outputs": [
    {
     "data": {
      "text/plain": [
       "421012.648522"
      ]
     },
     "execution_count": 30,
     "metadata": {},
     "output_type": "execute_result"
    }
   ],
   "source": [
    "# USA\n",
    "D1[\"raised_amount_usd_in_millions\"].sum()"
   ]
  },
  {
   "cell_type": "code",
   "execution_count": 31,
   "metadata": {},
   "outputs": [
    {
     "data": {
      "text/plain": [
       "20156.617818000002"
      ]
     },
     "execution_count": 31,
     "metadata": {},
     "output_type": "execute_result"
    }
   ],
   "source": [
    "# GBR\n",
    "D2[\"raised_amount_usd_in_millions\"].sum()"
   ]
  },
  {
   "cell_type": "code",
   "execution_count": 32,
   "metadata": {},
   "outputs": [
    {
     "data": {
      "text/plain": [
       "14391.858718"
      ]
     },
     "execution_count": 32,
     "metadata": {},
     "output_type": "execute_result"
    }
   ],
   "source": [
    "# IND\n",
    "D3[\"raised_amount_usd_in_millions\"].sum()"
   ]
  },
  {
   "cell_type": "markdown",
   "metadata": {},
   "source": [
    "###### 3. Top sector (based on count of investments)"
   ]
  },
  {
   "cell_type": "code",
   "execution_count": 33,
   "metadata": {},
   "outputs": [
    {
     "data": {
      "text/plain": [
       "raised_amount_usd_in_millions    118834.869645\n",
       "Name: Cleantech / Semiconductors, dtype: float64"
      ]
     },
     "execution_count": 33,
     "metadata": {},
     "output_type": "execute_result"
    }
   ],
   "source": [
    "# USA\n",
    "D1.groupby(by=\"main_sector\").sum().sort_values(by=\"raised_amount_usd_in_millions\", ascending=False).iloc[0]"
   ]
  },
  {
   "cell_type": "code",
   "execution_count": 34,
   "metadata": {},
   "outputs": [
    {
     "data": {
      "text/plain": [
       "raised_amount_usd_in_millions    5052.849729\n",
       "Name: Cleantech / Semiconductors, dtype: float64"
      ]
     },
     "execution_count": 34,
     "metadata": {},
     "output_type": "execute_result"
    }
   ],
   "source": [
    "# GBR\n",
    "D2.groupby(by=\"main_sector\").sum().sort_values(by=\"raised_amount_usd_in_millions\", ascending=False).iloc[0]"
   ]
  },
  {
   "cell_type": "code",
   "execution_count": 35,
   "metadata": {},
   "outputs": [
    {
     "data": {
      "text/plain": [
       "raised_amount_usd_in_millions    6329.50744\n",
       "Name: Others, dtype: float64"
      ]
     },
     "execution_count": 35,
     "metadata": {},
     "output_type": "execute_result"
    }
   ],
   "source": [
    "# IND\n",
    "D3.groupby(by=\"main_sector\").sum().sort_values(by=\"raised_amount_usd_in_millions\", ascending=False).iloc[0]"
   ]
  },
  {
   "cell_type": "markdown",
   "metadata": {},
   "source": [
    "###### 4. Second-best sector (based on count of investments)"
   ]
  },
  {
   "cell_type": "code",
   "execution_count": 36,
   "metadata": {},
   "outputs": [
    {
     "data": {
      "text/plain": [
       "raised_amount_usd_in_millions    86331.402349\n",
       "Name: Social, Finance, Analytics, Advertising, dtype: float64"
      ]
     },
     "execution_count": 36,
     "metadata": {},
     "output_type": "execute_result"
    }
   ],
   "source": [
    "# USA\n",
    "D1.groupby(by=\"main_sector\").sum().sort_values(by=\"raised_amount_usd_in_millions\", ascending=False).iloc[1]"
   ]
  },
  {
   "cell_type": "code",
   "execution_count": 37,
   "metadata": {},
   "outputs": [
    {
     "data": {
      "text/plain": [
       "raised_amount_usd_in_millions    4492.219646\n",
       "Name: Others, dtype: float64"
      ]
     },
     "execution_count": 37,
     "metadata": {},
     "output_type": "execute_result"
    }
   ],
   "source": [
    "# GBR\n",
    "D2.groupby(by=\"main_sector\").sum().sort_values(by=\"raised_amount_usd_in_millions\", ascending=False).iloc[1]"
   ]
  },
  {
   "cell_type": "code",
   "execution_count": 38,
   "metadata": {
    "scrolled": true
   },
   "outputs": [
    {
     "data": {
      "text/plain": [
       "raised_amount_usd_in_millions    1739.579948\n",
       "Name: News, Search and Messaging, dtype: float64"
      ]
     },
     "execution_count": 38,
     "metadata": {},
     "output_type": "execute_result"
    }
   ],
   "source": [
    "# IND\n",
    "D3.groupby(by=\"main_sector\").sum().sort_values(by=\"raised_amount_usd_in_millions\", ascending=False).iloc[1]"
   ]
  },
  {
   "cell_type": "markdown",
   "metadata": {},
   "source": [
    "###### 5. Third-best sector (based on count of investments)"
   ]
  },
  {
   "cell_type": "code",
   "execution_count": 39,
   "metadata": {},
   "outputs": [
    {
     "data": {
      "text/plain": [
       "raised_amount_usd_in_millions    82796.823598\n",
       "Name: Others, dtype: float64"
      ]
     },
     "execution_count": 39,
     "metadata": {},
     "output_type": "execute_result"
    }
   ],
   "source": [
    "# USA\n",
    "D1.groupby(by=\"main_sector\").sum().sort_values(by=\"raised_amount_usd_in_millions\", ascending=False).iloc[2]"
   ]
  },
  {
   "cell_type": "code",
   "execution_count": 40,
   "metadata": {},
   "outputs": [
    {
     "data": {
      "text/plain": [
       "raised_amount_usd_in_millions    3773.328672\n",
       "Name: Social, Finance, Analytics, Advertising, dtype: float64"
      ]
     },
     "execution_count": 40,
     "metadata": {},
     "output_type": "execute_result"
    }
   ],
   "source": [
    "# GBR\n",
    "D2.groupby(by=\"main_sector\").sum().sort_values(by=\"raised_amount_usd_in_millions\", ascending=False).iloc[2]"
   ]
  },
  {
   "cell_type": "code",
   "execution_count": 41,
   "metadata": {
    "scrolled": true
   },
   "outputs": [
    {
     "data": {
      "text/plain": [
       "raised_amount_usd_in_millions    1578.80492\n",
       "Name: Social, Finance, Analytics, Advertising, dtype: float64"
      ]
     },
     "execution_count": 41,
     "metadata": {},
     "output_type": "execute_result"
    }
   ],
   "source": [
    "# IND\n",
    "D3.groupby(by=\"main_sector\").sum().sort_values(by=\"raised_amount_usd_in_millions\", ascending=False).iloc[2]"
   ]
  },
  {
   "cell_type": "markdown",
   "metadata": {},
   "source": [
    "###### 6. Number of investments in the top sector (refer to point 3)"
   ]
  },
  {
   "cell_type": "code",
   "execution_count": 42,
   "metadata": {},
   "outputs": [
    {
     "data": {
      "text/plain": [
       "7857"
      ]
     },
     "execution_count": 42,
     "metadata": {},
     "output_type": "execute_result"
    }
   ],
   "source": [
    "# USA\n",
    "D1[D1[\"main_sector\"]==\"Cleantech / Semiconductors\"].shape[0]"
   ]
  },
  {
   "cell_type": "code",
   "execution_count": 43,
   "metadata": {},
   "outputs": [
    {
     "data": {
      "text/plain": [
       "437"
      ]
     },
     "execution_count": 43,
     "metadata": {},
     "output_type": "execute_result"
    }
   ],
   "source": [
    "# GBR\n",
    "D2[D2[\"main_sector\"]==\"Cleantech / Semiconductors\"].shape[0]"
   ]
  },
  {
   "cell_type": "code",
   "execution_count": 44,
   "metadata": {},
   "outputs": [
    {
     "data": {
      "text/plain": [
       "284"
      ]
     },
     "execution_count": 44,
     "metadata": {},
     "output_type": "execute_result"
    }
   ],
   "source": [
    "# IND\n",
    "D3[D3[\"main_sector\"]==\"Others\"].shape[0]"
   ]
  },
  {
   "cell_type": "markdown",
   "metadata": {},
   "source": [
    "######  7. Number of investments in the second-best sector (refer to point 4)"
   ]
  },
  {
   "cell_type": "code",
   "execution_count": 45,
   "metadata": {},
   "outputs": [
    {
     "data": {
      "text/plain": [
       "8310"
      ]
     },
     "execution_count": 45,
     "metadata": {},
     "output_type": "execute_result"
    }
   ],
   "source": [
    "# USA\n",
    "D1[D1[\"main_sector\"]==\"Others\"].shape[0]"
   ]
  },
  {
   "cell_type": "code",
   "execution_count": 46,
   "metadata": {},
   "outputs": [
    {
     "data": {
      "text/plain": [
       "516"
      ]
     },
     "execution_count": 46,
     "metadata": {},
     "output_type": "execute_result"
    }
   ],
   "source": [
    "# GBR\n",
    "D2[D2[\"main_sector\"]==\"Others\"].shape[0]"
   ]
  },
  {
   "cell_type": "code",
   "execution_count": 47,
   "metadata": {},
   "outputs": [
    {
     "data": {
      "text/plain": [
       "130"
      ]
     },
     "execution_count": 47,
     "metadata": {},
     "output_type": "execute_result"
    }
   ],
   "source": [
    "# IND\n",
    "D3[D3[\"main_sector\"]==\"News, Search and Messaging\"].shape[0]"
   ]
  },
  {
   "cell_type": "markdown",
   "metadata": {},
   "source": [
    "###### 8. Number of investments in the third-best sector (refer to point 5)"
   ]
  },
  {
   "cell_type": "code",
   "execution_count": 48,
   "metadata": {},
   "outputs": [
    {
     "data": {
      "text/plain": [
       "7246"
      ]
     },
     "execution_count": 48,
     "metadata": {},
     "output_type": "execute_result"
    }
   ],
   "source": [
    "# USA\n",
    "D1[D1[\"main_sector\"]==\"Social, Finance, Analytics, Advertising\"].shape[0]"
   ]
  },
  {
   "cell_type": "code",
   "execution_count": 49,
   "metadata": {},
   "outputs": [
    {
     "data": {
      "text/plain": [
       "241"
      ]
     },
     "execution_count": 49,
     "metadata": {},
     "output_type": "execute_result"
    }
   ],
   "source": [
    "# GBR\n",
    "D2[D2[\"main_sector\"]==\"News, Search and Messaging\"].shape[0]"
   ]
  },
  {
   "cell_type": "code",
   "execution_count": 50,
   "metadata": {},
   "outputs": [
    {
     "data": {
      "text/plain": [
       "31"
      ]
     },
     "execution_count": 50,
     "metadata": {},
     "output_type": "execute_result"
    }
   ],
   "source": [
    "# IND\n",
    "D3[D3[\"main_sector\"]==\"Automotive & Sports\"].shape[0]"
   ]
  },
  {
   "cell_type": "markdown",
   "metadata": {},
   "source": [
    "######  9. For the top sector count-wise (point 3), which company received the highest investment?"
   ]
  },
  {
   "cell_type": "code",
   "execution_count": 51,
   "metadata": {},
   "outputs": [
    {
     "data": {
      "text/html": [
       "<div>\n",
       "<style scoped>\n",
       "    .dataframe tbody tr th:only-of-type {\n",
       "        vertical-align: middle;\n",
       "    }\n",
       "\n",
       "    .dataframe tbody tr th {\n",
       "        vertical-align: top;\n",
       "    }\n",
       "\n",
       "    .dataframe thead th {\n",
       "        text-align: right;\n",
       "    }\n",
       "</style>\n",
       "<table border=\"1\" class=\"dataframe\">\n",
       "  <thead>\n",
       "    <tr style=\"text-align: right;\">\n",
       "      <th></th>\n",
       "      <th>name</th>\n",
       "      <th>raised_amount_usd_in_millions</th>\n",
       "    </tr>\n",
       "  </thead>\n",
       "  <tbody>\n",
       "    <tr>\n",
       "      <th>31227</th>\n",
       "      <td>Freescale Semiconductor</td>\n",
       "      <td>17600.0</td>\n",
       "    </tr>\n",
       "  </tbody>\n",
       "</table>\n",
       "</div>"
      ],
      "text/plain": [
       "                          name  raised_amount_usd_in_millions\n",
       "31227  Freescale Semiconductor                        17600.0"
      ]
     },
     "execution_count": 51,
     "metadata": {},
     "output_type": "execute_result"
    }
   ],
   "source": [
    "# USA\n",
    "D1[D1[\"raised_amount_usd_in_millions\"]==D1[D1[\"main_sector\"]==\"Cleantech / Semiconductors\"][\"raised_amount_usd_in_millions\"].max()][[\"name\",\"raised_amount_usd_in_millions\"]]"
   ]
  },
  {
   "cell_type": "code",
   "execution_count": 52,
   "metadata": {},
   "outputs": [
    {
     "data": {
      "text/html": [
       "<div>\n",
       "<style scoped>\n",
       "    .dataframe tbody tr th:only-of-type {\n",
       "        vertical-align: middle;\n",
       "    }\n",
       "\n",
       "    .dataframe tbody tr th {\n",
       "        vertical-align: top;\n",
       "    }\n",
       "\n",
       "    .dataframe thead th {\n",
       "        text-align: right;\n",
       "    }\n",
       "</style>\n",
       "<table border=\"1\" class=\"dataframe\">\n",
       "  <thead>\n",
       "    <tr style=\"text-align: right;\">\n",
       "      <th></th>\n",
       "      <th>name</th>\n",
       "      <th>raised_amount_usd_in_millions</th>\n",
       "    </tr>\n",
       "  </thead>\n",
       "  <tbody>\n",
       "    <tr>\n",
       "      <th>10850</th>\n",
       "      <td>Immunocore</td>\n",
       "      <td>320.0</td>\n",
       "    </tr>\n",
       "  </tbody>\n",
       "</table>\n",
       "</div>"
      ],
      "text/plain": [
       "             name  raised_amount_usd_in_millions\n",
       "10850  Immunocore                          320.0"
      ]
     },
     "execution_count": 52,
     "metadata": {},
     "output_type": "execute_result"
    }
   ],
   "source": [
    "# GBR\n",
    "D2[D2[\"raised_amount_usd_in_millions\"]==D2[D2[\"main_sector\"]==\"Cleantech / Semiconductors\"][\"raised_amount_usd_in_millions\"].max()][[\"name\",\"raised_amount_usd_in_millions\"]]"
   ]
  },
  {
   "cell_type": "code",
   "execution_count": 53,
   "metadata": {},
   "outputs": [
    {
     "data": {
      "text/html": [
       "<div>\n",
       "<style scoped>\n",
       "    .dataframe tbody tr th:only-of-type {\n",
       "        vertical-align: middle;\n",
       "    }\n",
       "\n",
       "    .dataframe tbody tr th {\n",
       "        vertical-align: top;\n",
       "    }\n",
       "\n",
       "    .dataframe thead th {\n",
       "        text-align: right;\n",
       "    }\n",
       "</style>\n",
       "<table border=\"1\" class=\"dataframe\">\n",
       "  <thead>\n",
       "    <tr style=\"text-align: right;\">\n",
       "      <th></th>\n",
       "      <th>name</th>\n",
       "      <th>raised_amount_usd_in_millions</th>\n",
       "    </tr>\n",
       "  </thead>\n",
       "  <tbody>\n",
       "    <tr>\n",
       "      <th>20646</th>\n",
       "      <td>Flipkart</td>\n",
       "      <td>1000.0</td>\n",
       "    </tr>\n",
       "  </tbody>\n",
       "</table>\n",
       "</div>"
      ],
      "text/plain": [
       "           name  raised_amount_usd_in_millions\n",
       "20646  Flipkart                         1000.0"
      ]
     },
     "execution_count": 53,
     "metadata": {},
     "output_type": "execute_result"
    }
   ],
   "source": [
    "# IND\n",
    "D3[D3[\"raised_amount_usd_in_millions\"]==D3[D3[\"main_sector\"]==\"Others\"][\"raised_amount_usd_in_millions\"].max()][[\"name\",\"raised_amount_usd_in_millions\"]]"
   ]
  },
  {
   "cell_type": "markdown",
   "metadata": {},
   "source": [
    "######  10. For the second-best sector count-wise (point 4), which company received the highest investment?"
   ]
  },
  {
   "cell_type": "code",
   "execution_count": 54,
   "metadata": {},
   "outputs": [
    {
     "data": {
      "text/html": [
       "<div>\n",
       "<style scoped>\n",
       "    .dataframe tbody tr th:only-of-type {\n",
       "        vertical-align: middle;\n",
       "    }\n",
       "\n",
       "    .dataframe tbody tr th {\n",
       "        vertical-align: top;\n",
       "    }\n",
       "\n",
       "    .dataframe thead th {\n",
       "        text-align: right;\n",
       "    }\n",
       "</style>\n",
       "<table border=\"1\" class=\"dataframe\">\n",
       "  <thead>\n",
       "    <tr style=\"text-align: right;\">\n",
       "      <th></th>\n",
       "      <th>name</th>\n",
       "      <th>raised_amount_usd_in_millions</th>\n",
       "    </tr>\n",
       "  </thead>\n",
       "  <tbody>\n",
       "    <tr>\n",
       "      <th>1949</th>\n",
       "      <td>SoFi</td>\n",
       "      <td>1000.0</td>\n",
       "    </tr>\n",
       "    <tr>\n",
       "      <th>27755</th>\n",
       "      <td>Uber</td>\n",
       "      <td>1000.0</td>\n",
       "    </tr>\n",
       "    <tr>\n",
       "      <th>27761</th>\n",
       "      <td>Uber</td>\n",
       "      <td>1000.0</td>\n",
       "    </tr>\n",
       "    <tr>\n",
       "      <th>33976</th>\n",
       "      <td>Space Exploration Technologies</td>\n",
       "      <td>1000.0</td>\n",
       "    </tr>\n",
       "  </tbody>\n",
       "</table>\n",
       "</div>"
      ],
      "text/plain": [
       "                                 name  raised_amount_usd_in_millions\n",
       "1949                             SoFi                         1000.0\n",
       "27755                            Uber                         1000.0\n",
       "27761                            Uber                         1000.0\n",
       "33976  Space Exploration Technologies                         1000.0"
      ]
     },
     "execution_count": 54,
     "metadata": {},
     "output_type": "execute_result"
    }
   ],
   "source": [
    "# USA\n",
    "D1[D1[\"raised_amount_usd_in_millions\"]==D1[D1[\"main_sector\"]==\"Others\"][\"raised_amount_usd_in_millions\"].max()][[\"name\",\"raised_amount_usd_in_millions\"]]"
   ]
  },
  {
   "cell_type": "code",
   "execution_count": 55,
   "metadata": {},
   "outputs": [
    {
     "data": {
      "text/html": [
       "<div>\n",
       "<style scoped>\n",
       "    .dataframe tbody tr th:only-of-type {\n",
       "        vertical-align: middle;\n",
       "    }\n",
       "\n",
       "    .dataframe tbody tr th {\n",
       "        vertical-align: top;\n",
       "    }\n",
       "\n",
       "    .dataframe thead th {\n",
       "        text-align: right;\n",
       "    }\n",
       "</style>\n",
       "<table border=\"1\" class=\"dataframe\">\n",
       "  <thead>\n",
       "    <tr style=\"text-align: right;\">\n",
       "      <th></th>\n",
       "      <th>name</th>\n",
       "      <th>raised_amount_usd_in_millions</th>\n",
       "    </tr>\n",
       "  </thead>\n",
       "  <tbody>\n",
       "    <tr>\n",
       "      <th>35040</th>\n",
       "      <td>OneWeb</td>\n",
       "      <td>500.0</td>\n",
       "    </tr>\n",
       "  </tbody>\n",
       "</table>\n",
       "</div>"
      ],
      "text/plain": [
       "         name  raised_amount_usd_in_millions\n",
       "35040  OneWeb                          500.0"
      ]
     },
     "execution_count": 55,
     "metadata": {},
     "output_type": "execute_result"
    }
   ],
   "source": [
    "# GBR\n",
    "D2[D2[\"raised_amount_usd_in_millions\"]==D2[D2[\"main_sector\"]==\"Others\"][\"raised_amount_usd_in_millions\"].max()][[\"name\",\"raised_amount_usd_in_millions\"]]"
   ]
  },
  {
   "cell_type": "code",
   "execution_count": 56,
   "metadata": {},
   "outputs": [
    {
     "data": {
      "text/html": [
       "<div>\n",
       "<style scoped>\n",
       "    .dataframe tbody tr th:only-of-type {\n",
       "        vertical-align: middle;\n",
       "    }\n",
       "\n",
       "    .dataframe tbody tr th {\n",
       "        vertical-align: top;\n",
       "    }\n",
       "\n",
       "    .dataframe thead th {\n",
       "        text-align: right;\n",
       "    }\n",
       "</style>\n",
       "<table border=\"1\" class=\"dataframe\">\n",
       "  <thead>\n",
       "    <tr style=\"text-align: right;\">\n",
       "      <th></th>\n",
       "      <th>name</th>\n",
       "      <th>raised_amount_usd_in_millions</th>\n",
       "    </tr>\n",
       "  </thead>\n",
       "  <tbody>\n",
       "    <tr>\n",
       "      <th>1644</th>\n",
       "      <td>SoftViaNet</td>\n",
       "      <td>915.0</td>\n",
       "    </tr>\n",
       "  </tbody>\n",
       "</table>\n",
       "</div>"
      ],
      "text/plain": [
       "            name  raised_amount_usd_in_millions\n",
       "1644  SoftViaNet                          915.0"
      ]
     },
     "execution_count": 56,
     "metadata": {},
     "output_type": "execute_result"
    }
   ],
   "source": [
    "# IND\n",
    "D2[D2[\"raised_amount_usd_in_millions\"]==D2[D2[\"main_sector\"]==\"News, Search and Messaging\"][\"raised_amount_usd_in_millions\"].max()][[\"name\",\"raised_amount_usd_in_millions\"]]"
   ]
  },
  {
   "cell_type": "markdown",
   "metadata": {},
   "source": [
    "# Checkpoint 6: Plots"
   ]
  },
  {
   "cell_type": "code",
   "execution_count": 57,
   "metadata": {},
   "outputs": [
    {
     "data": {
      "image/png": "[encoded data removed]",
      "text/plain": [
       "<Figure size 1800x720 with 1 Axes>"
      ]
     },
     "metadata": {
      "needs_background": "light"
     },
     "output_type": "display_data"
    }
   ],
   "source": [
    "plt.figure(figsize=(25, 10))\n",
    "sns.boxplot(x='funding_round_type', y='raised_amount_usd_in_millions', data=original_data)\n",
    "plt.yscale('log')\n",
    "plt.show()"
   ]
  },
  {
   "cell_type": "code",
   "execution_count": 58,
   "metadata": {},
   "outputs": [
    {
     "data": {
      "image/png": "[encoded data removed]",
      "text/plain": [
       "<Figure size 1080x1080 with 1 Axes>"
      ]
     },
     "metadata": {
      "needs_background": "light"
     },
     "output_type": "display_data"
    }
   ],
   "source": [
    "plt.figure(figsize=(15, 15))\n",
    "sns.countplot(y=\"funding_round_type\", data=original_data)\n",
    "plt.show()"
   ]
  },
  {
   "cell_type": "code",
   "execution_count": 59,
   "metadata": {
    "scrolled": true
   },
   "outputs": [
    {
     "data": {
      "image/png": "[encoded data removed]",
      "text/plain": [
       "<Figure size 1800x1440 with 1 Axes>"
      ]
     },
     "metadata": {
      "needs_background": "light"
     },
     "output_type": "display_data"
    }
   ],
   "source": [
    "plt.figure(figsize=(25, 20))\n",
    "barplot = sns.barplot(y='country_code', x='raised_amount_usd_in_millions', data=original_data[original_data[\"country_code\"].isin(top9[\"country_code\"])], estimator=np.sum, order=top9[\"country_code\"], ci=None)\n"
   ]
  },
  {
   "cell_type": "markdown",
   "metadata": {},
   "source": [
    "###### A plot showing the representative amount of investment in each funding type. This chart should make it clear that a certain funding type (FT) is best suited for Spark Funds.   "
   ]
  },
  {
   "cell_type": "code",
   "execution_count": 60,
   "metadata": {},
   "outputs": [
    {
     "data": {
      "image/png": "[encoded data removed]",
      "text/plain": [
       "<Figure size 1080x576 with 1 Axes>"
      ]
     },
     "metadata": {
      "needs_background": "light"
     },
     "output_type": "display_data"
    }
   ],
   "source": [
    "fig, ax = plt.subplots(figsize=(15,8))\n",
    "original_data[original_data[\"funding_round_type\"].isin([\"venture\", \"angel\", \"seed\", \"private_equity\"]) & (original_data[\"raised_amount_usd_in_millions\"] >= 5.0) & (original_data[\"raised_amount_usd_in_millions\"] <= 15.0)].boxplot(column=\"raised_amount_usd_in_millions\", by=\"funding_round_type\", ax=ax)\n",
    "\n",
    "plt.suptitle('Funding by type')\n",
    "\n",
    "plt.show()"
   ]
  },
  {
   "cell_type": "markdown",
   "metadata": {},
   "source": [
    "From the plot above we can see that the representative value or median of the venture funding type is very close to the mid-value of the amount that Spark Funds is looking to invest"
   ]
  },
  {
   "cell_type": "markdown",
   "metadata": {},
   "source": [
    "###### A plot showing the top 9 countries against the total amount of investments of funding type FT. This should make the top 3 countries (Country 1, Country 2, and Country 3) very clear."
   ]
  },
  {
   "cell_type": "code",
   "execution_count": 61,
   "metadata": {},
   "outputs": [
    {
     "data": {
      "image/png": "[encoded data removed]",
      "text/plain": [
       "<Figure size 1800x1440 with 1 Axes>"
      ]
     },
     "metadata": {
      "needs_background": "light"
     },
     "output_type": "display_data"
    }
   ],
   "source": [
    "plt.figure(figsize=(25, 20))\n",
    "barplot = sns.barplot(y='country_code', x='raised_amount_usd_in_millions', hue=\"funding_round_type\", data=original_data[original_data[\"country_code\"].isin(top9[\"country_code\"])], estimator=np.sum, order=top9[\"country_code\"], ci=None)\n",
    "\n",
    "plt.xlabel(\"Amount\", fontsize = 20)\n",
    "plt.ylabel(\"Country\", fontsize = 20)\n",
    "barplot.set_yticklabels(top9[\"country_code\"], size = 20)\n",
    "\n",
    "plt.show()"
   ]
  },
  {
   "cell_type": "markdown",
   "metadata": {},
   "source": [
    "###### A plot showing the number of investments in the top 3 sectors of the top 3 countries on one chart (for the chosen investment type FT). This plot should clearly display the top 3 sectors each in Country 1, Country 2, and Country 3."
   ]
  },
  {
   "cell_type": "code",
   "execution_count": 62,
   "metadata": {},
   "outputs": [
    {
     "data": {
      "text/html": [
       "<div>\n",
       "<style scoped>\n",
       "    .dataframe tbody tr th:only-of-type {\n",
       "        vertical-align: middle;\n",
       "    }\n",
       "\n",
       "    .dataframe tbody tr th {\n",
       "        vertical-align: top;\n",
       "    }\n",
       "\n",
       "    .dataframe thead th {\n",
       "        text-align: right;\n",
       "    }\n",
       "</style>\n",
       "<table border=\"1\" class=\"dataframe\">\n",
       "  <thead>\n",
       "    <tr style=\"text-align: right;\">\n",
       "      <th></th>\n",
       "      <th>permalink</th>\n",
       "      <th>name</th>\n",
       "      <th>category_list</th>\n",
       "      <th>country_code</th>\n",
       "      <th>company_permalink</th>\n",
       "      <th>funding_round_permalink</th>\n",
       "      <th>funding_round_type</th>\n",
       "      <th>raised_amount_usd_in_millions</th>\n",
       "      <th>primary_sector</th>\n",
       "    </tr>\n",
       "    <tr>\n",
       "      <th>main_sector</th>\n",
       "      <th></th>\n",
       "      <th></th>\n",
       "      <th></th>\n",
       "      <th></th>\n",
       "      <th></th>\n",
       "      <th></th>\n",
       "      <th></th>\n",
       "      <th></th>\n",
       "      <th></th>\n",
       "    </tr>\n",
       "  </thead>\n",
       "  <tbody>\n",
       "    <tr>\n",
       "      <th>Others</th>\n",
       "      <td>8310</td>\n",
       "      <td>8310</td>\n",
       "      <td>8310</td>\n",
       "      <td>8310</td>\n",
       "      <td>8310</td>\n",
       "      <td>8310</td>\n",
       "      <td>8310</td>\n",
       "      <td>8310</td>\n",
       "      <td>8310</td>\n",
       "    </tr>\n",
       "    <tr>\n",
       "      <th>Cleantech / Semiconductors</th>\n",
       "      <td>7857</td>\n",
       "      <td>7857</td>\n",
       "      <td>7857</td>\n",
       "      <td>7857</td>\n",
       "      <td>7857</td>\n",
       "      <td>7857</td>\n",
       "      <td>7857</td>\n",
       "      <td>7857</td>\n",
       "      <td>7857</td>\n",
       "    </tr>\n",
       "    <tr>\n",
       "      <th>Social, Finance, Analytics, Advertising</th>\n",
       "      <td>7246</td>\n",
       "      <td>7246</td>\n",
       "      <td>7246</td>\n",
       "      <td>7246</td>\n",
       "      <td>7246</td>\n",
       "      <td>7246</td>\n",
       "      <td>7246</td>\n",
       "      <td>7246</td>\n",
       "      <td>7246</td>\n",
       "    </tr>\n",
       "    <tr>\n",
       "      <th>News, Search and Messaging</th>\n",
       "      <td>4350</td>\n",
       "      <td>4350</td>\n",
       "      <td>4350</td>\n",
       "      <td>4350</td>\n",
       "      <td>4350</td>\n",
       "      <td>4350</td>\n",
       "      <td>4350</td>\n",
       "      <td>4350</td>\n",
       "      <td>4350</td>\n",
       "    </tr>\n",
       "    <tr>\n",
       "      <th>Health</th>\n",
       "      <td>3269</td>\n",
       "      <td>3269</td>\n",
       "      <td>3269</td>\n",
       "      <td>3269</td>\n",
       "      <td>3269</td>\n",
       "      <td>3269</td>\n",
       "      <td>3269</td>\n",
       "      <td>3269</td>\n",
       "      <td>3269</td>\n",
       "    </tr>\n",
       "    <tr>\n",
       "      <th>Manufacturing</th>\n",
       "      <td>2453</td>\n",
       "      <td>2453</td>\n",
       "      <td>2453</td>\n",
       "      <td>2453</td>\n",
       "      <td>2453</td>\n",
       "      <td>2453</td>\n",
       "      <td>2453</td>\n",
       "      <td>2453</td>\n",
       "      <td>2453</td>\n",
       "    </tr>\n",
       "    <tr>\n",
       "      <th>Entertainment</th>\n",
       "      <td>1794</td>\n",
       "      <td>1794</td>\n",
       "      <td>1794</td>\n",
       "      <td>1794</td>\n",
       "      <td>1794</td>\n",
       "      <td>1794</td>\n",
       "      <td>1794</td>\n",
       "      <td>1794</td>\n",
       "      <td>1794</td>\n",
       "    </tr>\n",
       "    <tr>\n",
       "      <th>Automotive &amp; Sports</th>\n",
       "      <td>505</td>\n",
       "      <td>505</td>\n",
       "      <td>505</td>\n",
       "      <td>505</td>\n",
       "      <td>505</td>\n",
       "      <td>505</td>\n",
       "      <td>505</td>\n",
       "      <td>505</td>\n",
       "      <td>505</td>\n",
       "    </tr>\n",
       "    <tr>\n",
       "      <th>Blanks</th>\n",
       "      <td>196</td>\n",
       "      <td>196</td>\n",
       "      <td>0</td>\n",
       "      <td>196</td>\n",
       "      <td>196</td>\n",
       "      <td>196</td>\n",
       "      <td>196</td>\n",
       "      <td>196</td>\n",
       "      <td>196</td>\n",
       "    </tr>\n",
       "  </tbody>\n",
       "</table>\n",
       "</div>"
      ],
      "text/plain": [
       "                                         permalink  name  category_list  \\\n",
       "main_sector                                                               \n",
       "Others                                        8310  8310           8310   \n",
       "Cleantech / Semiconductors                    7857  7857           7857   \n",
       "Social, Finance, Analytics, Advertising       7246  7246           7246   \n",
       "News, Search and Messaging                    4350  4350           4350   \n",
       "Health                                        3269  3269           3269   \n",
       "Manufacturing                                 2453  2453           2453   \n",
       "Entertainment                                 1794  1794           1794   \n",
       "Automotive & Sports                            505   505            505   \n",
       "Blanks                                         196   196              0   \n",
       "\n",
       "                                         country_code  company_permalink  \\\n",
       "main_sector                                                                \n",
       "Others                                           8310               8310   \n",
       "Cleantech / Semiconductors                       7857               7857   \n",
       "Social, Finance, Analytics, Advertising          7246               7246   \n",
       "News, Search and Messaging                       4350               4350   \n",
       "Health                                           3269               3269   \n",
       "Manufacturing                                    2453               2453   \n",
       "Entertainment                                    1794               1794   \n",
       "Automotive & Sports                               505                505   \n",
       "Blanks                                            196                196   \n",
       "\n",
       "                                         funding_round_permalink  \\\n",
       "main_sector                                                        \n",
       "Others                                                      8310   \n",
       "Cleantech / Semiconductors                                  7857   \n",
       "Social, Finance, Analytics, Advertising                     7246   \n",
       "News, Search and Messaging                                  4350   \n",
       "Health                                                      3269   \n",
       "Manufacturing                                               2453   \n",
       "Entertainment                                               1794   \n",
       "Automotive & Sports                                          505   \n",
       "Blanks                                                       196   \n",
       "\n",
       "                                         funding_round_type  \\\n",
       "main_sector                                                   \n",
       "Others                                                 8310   \n",
       "Cleantech / Semiconductors                             7857   \n",
       "Social, Finance, Analytics, Advertising                7246   \n",
       "News, Search and Messaging                             4350   \n",
       "Health                                                 3269   \n",
       "Manufacturing                                          2453   \n",
       "Entertainment                                          1794   \n",
       "Automotive & Sports                                     505   \n",
       "Blanks                                                  196   \n",
       "\n",
       "                                         raised_amount_usd_in_millions  \\\n",
       "main_sector                                                              \n",
       "Others                                                            8310   \n",
       "Cleantech / Semiconductors                                        7857   \n",
       "Social, Finance, Analytics, Advertising                           7246   \n",
       "News, Search and Messaging                                        4350   \n",
       "Health                                                            3269   \n",
       "Manufacturing                                                     2453   \n",
       "Entertainment                                                     1794   \n",
       "Automotive & Sports                                                505   \n",
       "Blanks                                                             196   \n",
       "\n",
       "                                         primary_sector  \n",
       "main_sector                                              \n",
       "Others                                             8310  \n",
       "Cleantech / Semiconductors                         7857  \n",
       "Social, Finance, Analytics, Advertising            7246  \n",
       "News, Search and Messaging                         4350  \n",
       "Health                                             3269  \n",
       "Manufacturing                                      2453  \n",
       "Entertainment                                      1794  \n",
       "Automotive & Sports                                 505  \n",
       "Blanks                                              196  "
      ]
     },
     "execution_count": 62,
     "metadata": {},
     "output_type": "execute_result"
    }
   ],
   "source": [
    "D1.groupby(by=\"main_sector\").count().sort_values(by=\"funding_round_permalink\", ascending=False)\n"
   ]
  },
  {
   "cell_type": "code",
   "execution_count": 63,
   "metadata": {},
   "outputs": [],
   "source": [
    "D1_top3 = D1.groupby(by=\"main_sector\").count()\\\n",
    "    .sort_values(by=\"funding_round_permalink\", ascending=False)[\"funding_round_permalink\"]\\\n",
    "    .iloc[0:3].reset_index()[\"main_sector\"]\n",
    "D2_top3 = D2.groupby(by=\"main_sector\").count()\\\n",
    "    .sort_values(by=\"funding_round_permalink\", ascending=False)[\"funding_round_permalink\"]\\\n",
    "    .iloc[0:3].reset_index()[\"main_sector\"]\n",
    "D3_top3 = D3.groupby(by=\"main_sector\").count()\\\n",
    "    .sort_values(by=\"funding_round_permalink\", ascending=False)[\"funding_round_permalink\"]\\\n",
    "    .iloc[0:3].reset_index()[\"main_sector\"]"
   ]
  },
  {
   "cell_type": "code",
   "execution_count": 64,
   "metadata": {},
   "outputs": [],
   "source": [
    "D1_3 = D1[D1[\"main_sector\"].isin(D1_top3)]\n",
    "D2_3 = D2[D2[\"main_sector\"].isin(D2_top3)]\n",
    "D3_3 = D3[D3[\"main_sector\"].isin(D3_top3)]"
   ]
  },
  {
   "cell_type": "code",
   "execution_count": 65,
   "metadata": {},
   "outputs": [
    {
     "data": {
      "text/html": [
       "<div>\n",
       "<style scoped>\n",
       "    .dataframe tbody tr th:only-of-type {\n",
       "        vertical-align: middle;\n",
       "    }\n",
       "\n",
       "    .dataframe tbody tr th {\n",
       "        vertical-align: top;\n",
       "    }\n",
       "\n",
       "    .dataframe thead tr th {\n",
       "        text-align: left;\n",
       "    }\n",
       "\n",
       "    .dataframe thead tr:last-of-type th {\n",
       "        text-align: right;\n",
       "    }\n",
       "</style>\n",
       "<table border=\"1\" class=\"dataframe\">\n",
       "  <thead>\n",
       "    <tr>\n",
       "      <th></th>\n",
       "      <th colspan=\"3\" halign=\"left\">raised_amount_usd_in_millions</th>\n",
       "    </tr>\n",
       "    <tr>\n",
       "      <th>country_code</th>\n",
       "      <th>GBR</th>\n",
       "      <th>IND</th>\n",
       "      <th>USA</th>\n",
       "    </tr>\n",
       "    <tr>\n",
       "      <th>main_sector</th>\n",
       "      <th></th>\n",
       "      <th></th>\n",
       "      <th></th>\n",
       "    </tr>\n",
       "  </thead>\n",
       "  <tbody>\n",
       "    <tr>\n",
       "      <th>Cleantech / Semiconductors</th>\n",
       "      <td>11.562585</td>\n",
       "      <td>NaN</td>\n",
       "      <td>15.124713</td>\n",
       "    </tr>\n",
       "    <tr>\n",
       "      <th>News, Search and Messaging</th>\n",
       "      <td>NaN</td>\n",
       "      <td>13.381384</td>\n",
       "      <td>NaN</td>\n",
       "    </tr>\n",
       "    <tr>\n",
       "      <th>Others</th>\n",
       "      <td>8.705852</td>\n",
       "      <td>22.286998</td>\n",
       "      <td>9.963517</td>\n",
       "    </tr>\n",
       "    <tr>\n",
       "      <th>Social, Finance, Analytics, Advertising</th>\n",
       "      <td>8.962776</td>\n",
       "      <td>10.740170</td>\n",
       "      <td>11.914353</td>\n",
       "    </tr>\n",
       "  </tbody>\n",
       "</table>\n",
       "</div>"
      ],
      "text/plain": [
       "                                        raised_amount_usd_in_millions  \\\n",
       "country_code                                                      GBR   \n",
       "main_sector                                                             \n",
       "Cleantech / Semiconductors                                  11.562585   \n",
       "News, Search and Messaging                                        NaN   \n",
       "Others                                                       8.705852   \n",
       "Social, Finance, Analytics, Advertising                      8.962776   \n",
       "\n",
       "                                                               \n",
       "country_code                                   IND        USA  \n",
       "main_sector                                                    \n",
       "Cleantech / Semiconductors                     NaN  15.124713  \n",
       "News, Search and Messaging               13.381384        NaN  \n",
       "Others                                   22.286998   9.963517  \n",
       "Social, Finance, Analytics, Advertising  10.740170  11.914353  "
      ]
     },
     "execution_count": 65,
     "metadata": {},
     "output_type": "execute_result"
    }
   ],
   "source": [
    "D = D1_3.append(D2_3).append(D3_3)\n",
    "\n",
    "pt = pd.pivot_table(D, index =[\"main_sector\"], columns=[\"country_code\"], values=[\"raised_amount_usd_in_millions\"])\n",
    "pt"
   ]
  },
  {
   "cell_type": "code",
   "execution_count": 66,
   "metadata": {
    "scrolled": true
   },
   "outputs": [
    {
     "data": {
      "image/png": "[encoded data removed]",
      "text/plain": [
       "<Figure size 1440x720 with 1 Axes>"
      ]
     },
     "metadata": {
      "needs_background": "light"
     },
     "output_type": "display_data"
    }
   ],
   "source": [
    "#plt.figure(figsize=(10, 15))\n",
    "rcParams['figure.figsize'] = 20, 10\n",
    "plot = pt.T.plot(kind=\"bar\")\n",
    "plt.ylabel(\"Amount raised in millions\", fontsize = 20)\n",
    "plt.xlabel(\"Country\", fontsize = 20)\n",
    "plot.set_xticklabels([\"GBR\",\"IND\",\"USA\",])\n",
    "plt.show()"
   ]
  }
 ],
 "metadata": {
  "kernelspec": {
   "display_name": "Python 3",
   "language": "python",
   "name": "python3"
  },
  "language_info": {
   "codemirror_mode": {
    "name": "ipython",
    "version": 3
   },
   "file_extension": ".py",
   "mimetype": "text/x-python",
   "name": "python",
   "nbconvert_exporter": "python",
   "pygments_lexer": "ipython3",
   "version": "3.7.6"
  }
 },
 "nbformat": 4,
 "nbformat_minor": 4
}
